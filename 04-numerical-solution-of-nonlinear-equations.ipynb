{
 "cells": [
  {
   "cell_type": "markdown",
   "metadata": {},
   "source": [
    "# Numerical Solution of Nonlinear Equations\n",
    "\n",
    "TMA4125 Vår 2022\n",
    "\n",
    "This notebook accompanies the slides [04-Nonlinear-Equations.pdf](https://www.math.ntnu.no/emner/TMA4125/2022v/lecture-notes/04-Nonlinear-Equations.pdf)."
   ]
  },
  {
   "cell_type": "code",
   "execution_count": 146,
   "metadata": {},
   "outputs": [],
   "source": [
    "import numpy as np\n",
    "import matplotlib.pyplot as plt\n",
    "from numpy.linalg import solve, norm\n",
    "import math"
   ]
  },
  {
   "cell_type": "code",
   "execution_count": 147,
   "metadata": {},
   "outputs": [],
   "source": [
    "# The function from Example 1\n",
    "def f(x):\n",
    "    return x**3+x**2-3*x-3"
   ]
  },
  {
   "cell_type": "code",
   "execution_count": 9,
   "metadata": {},
   "outputs": [],
   "source": [
    "# Try plotting yourself"
   ]
  },
  {
   "cell_type": "code",
   "execution_count": 148,
   "metadata": {},
   "outputs": [
    {
     "data": {
      "text/plain": [
       "[4.440892098500626e-16, 0, -1.7763568394002505e-15]"
      ]
     },
     "execution_count": 148,
     "metadata": {},
     "output_type": "execute_result"
    }
   ],
   "source": [
    "# We could also just check numerically\n",
    "[f(-math.sqrt(3)), f(-1), f(math.sqrt(3))]"
   ]
  },
  {
   "cell_type": "markdown",
   "metadata": {},
   "source": [
    "## Bisection method\n",
    "The algorithms for the bisection method (Sliode #6) looks like"
   ]
  },
  {
   "cell_type": "code",
   "execution_count": 149,
   "metadata": {},
   "outputs": [],
   "source": [
    "def bisection(f, a, b, tol=1.0e-6, max_iter = 100, verbose=True):\n",
    "    \"\"\"\n",
    "        bisection(f, a, b, tol=1e-6, maxiter=100)\n",
    "    \n",
    "    Solve the scalar equation f(x) = 0 by bisection.\n",
    "    \n",
    "    Input:\n",
    "        f    - the function\n",
    "        a, b - the interval\n",
    "    Optional (keyword arguments)\n",
    "        tol  - (`1.0e-6`) a tolerance when to stop due to a small intervall\n",
    "        max_iter – (`100`) a maximal number of iterations\n",
    "        verbose – (`True`) activates printing if set to true\n",
    "    Output:\n",
    "        r, k – the found root and the number of iterations needed\n",
    "               to get to this point\n",
    "    \"\"\"\n",
    "    fa = f(a)\n",
    "    fb = f(b)\n",
    "    if fa*fb > 0:\n",
    "        print('Error: f(a)*f(b)>0, there may be no root in the interval.')\n",
    "        return 0, 0\n",
    "    for k in range(max_iter):\n",
    "        c = 0.5*(a+b)               # The midpoint\n",
    "        fc = f(c)                   \n",
    "        verbose and print('k={:3d}, a={:.6f}, b={:.6f}, c={:10.6f}, f(c)={:10.3e}'\n",
    "              .format(k, a, b, c, fc)) \n",
    "        if abs(f(c)) < 1.e-14:\n",
    "            verbose and print(\"The value f(c) is very close to zero\")\n",
    "            break \n",
    "        elif (b-a) < 2*tol: # The zero is found!\n",
    "            verbose and print(\"The point c_k is close to r (less than {:.6f}).\".format((b-a)/2))\n",
    "            break \n",
    "        elif fa*fc < 0:               \n",
    "            b = c                   # There is a root in [a, c]\n",
    "        else:\n",
    "            a = c                   # There is a root in [c, b]  \n",
    "    return c, k"
   ]
  },
  {
   "cell_type": "code",
   "execution_count": 178,
   "metadata": {},
   "outputs": [
    {
     "name": "stdout",
     "output_type": "stream",
     "text": [
      "k=  0, a=0.000000, b=3.000000, c=  1.500000, f(c)= 7.500e-01\n",
      "k=  1, a=1.500000, b=3.000000, c=  2.250000, f(c)= 2.812e+00\n",
      "k=  2, a=2.250000, b=3.000000, c=  2.625000, f(c)= 4.266e+00\n",
      "k=  3, a=2.625000, b=3.000000, c=  2.812500, f(c)= 5.098e+00\n",
      "k=  4, a=2.812500, b=3.000000, c=  2.906250, f(c)= 5.540e+00\n",
      "k=  5, a=2.906250, b=3.000000, c=  2.953125, f(c)= 5.768e+00\n",
      "k=  6, a=2.953125, b=3.000000, c=  2.976562, f(c)= 5.883e+00\n",
      "k=  7, a=2.976562, b=3.000000, c=  2.988281, f(c)= 5.942e+00\n",
      "k=  8, a=2.988281, b=3.000000, c=  2.994141, f(c)= 5.971e+00\n",
      "k=  9, a=2.994141, b=3.000000, c=  2.997070, f(c)= 5.985e+00\n",
      "k= 10, a=2.997070, b=3.000000, c=  2.998535, f(c)= 5.993e+00\n",
      "k= 11, a=2.998535, b=3.000000, c=  2.999268, f(c)= 5.996e+00\n",
      "The point c_k is close to r (less than 0.000732).\n"
     ]
    }
   ],
   "source": [
    "# The function from Example 1\n",
    "def f(x):\n",
    "    return x*np.log(np.exp(x))- x\n",
    "# On a smaller intervall\n",
    "a, b = 0, 3\n",
    "c, nit = bisection(f, a, b, tol=1.e-3) # Apply the bisecetion method"
   ]
  },
  {
   "cell_type": "markdown",
   "metadata": {},
   "source": [
    "## Fixpoint iteration\n",
    "\n",
    "The algorithm from slide #8 reads"
   ]
  },
  {
   "cell_type": "code",
   "execution_count": 42,
   "metadata": {},
   "outputs": [],
   "source": [
    "def fixpoint(g, x0, tol=1.e-8, max_iter=30, verbose=True):\n",
    "    \"\"\"\n",
    "        x, k = fixpoint(g, x0, tol=1.e-8, max_iter=30)\n",
    "    \n",
    "    Solve the fix point equation $x=g(x)$ by ix point iterations.\n",
    "    The result of each iteration can be printed (and is by default)\n",
    "    \n",
    "    Input:\n",
    "        g        – the function g(x)\n",
    "        x0       - the initial value\n",
    "    Optional (keyword) arguments\n",
    "        tol      - (`1.0e-8`) a tolerance when to stop\n",
    "        max_iter - (`30`) the maximal number of iterations\n",
    "        verbose  – (`True`) prints the iterates if set to true\n",
    "    Output:\n",
    "        x, k – the found root and the number of iterations needed\n",
    "               to get to this point\n",
    "    \"\"\"\n",
    "    #   tol: The tolerance\n",
    "    # Output:\n",
    "    #   The root and the number of iterations\n",
    "    x = x0\n",
    "    verbose and print('k ={:3d}, x = {:14.10f}'.format(0, x))  \n",
    "    for k in range(max_iter):        \n",
    "        x_old = x                        # Store old values for error estimation \n",
    "        x = g(x)                         # The iteration\n",
    "        err = abs(x-x_old)               # Error estimate\n",
    "        verbose and print('k ={:3d}, x = {:14.10f}'.format(k+1, x))\n",
    "        if err < tol:                    # The solution is accepted \n",
    "            verbose and print(\"The last step was below the tolerance( {:1.4e}<{:1.4e})\".format(err,tol))\n",
    "            break\n",
    "    return x, k+1"
   ]
  },
  {
   "cell_type": "markdown",
   "metadata": {},
   "source": [
    "And the example from slide #9 performs like"
   ]
  },
  {
   "cell_type": "code",
   "execution_count": 153,
   "metadata": {},
   "outputs": [
    {
     "data": {
      "text/plain": [
       "[-1.7320508075688774, -1.0, 1.7320508075688767]"
      ]
     },
     "execution_count": 153,
     "metadata": {},
     "output_type": "execute_result"
    }
   ],
   "source": [
    "def g(x):       \n",
    "    return (x**3+x**2-3)/3\n",
    "\n",
    "# Since we know the solutions from before - are these fixed points?\n",
    "[g(-math.sqrt(3)), g(-1), g(math.sqrt(3))]"
   ]
  },
  {
   "cell_type": "code",
   "execution_count": 168,
   "metadata": {},
   "outputs": [
    {
     "name": "stdout",
     "output_type": "stream",
     "text": [
      "k =  0, x =   1.2000000000\n",
      "k =  1, x =   1.2680061854\n",
      "k =  2, x =   1.0782904899\n",
      "k =  3, x =   1.6225777808\n",
      "k =  4, x =   0.2002883942\n",
      "k =  5, x =   4.6505441579\n",
      "k =  6, x =            nan\n",
      "k =  7, x =            nan\n",
      "k =  8, x =            nan\n",
      "k =  9, x =            nan\n",
      "k = 10, x =            nan\n",
      "k = 11, x =            nan\n",
      "k = 12, x =            nan\n",
      "k = 13, x =            nan\n",
      "k = 14, x =            nan\n",
      "k = 15, x =            nan\n",
      "k = 16, x =            nan\n",
      "k = 17, x =            nan\n",
      "k = 18, x =            nan\n",
      "k = 19, x =            nan\n",
      "k = 20, x =            nan\n",
      "k = 21, x =            nan\n",
      "k = 22, x =            nan\n",
      "k = 23, x =            nan\n",
      "k = 24, x =            nan\n",
      "k = 25, x =            nan\n",
      "k = 26, x =            nan\n",
      "k = 27, x =            nan\n",
      "k = 28, x =            nan\n",
      "k = 29, x =            nan\n",
      "k = 30, x =            nan\n",
      "\n",
      "x = nan after 30 iterations\n"
     ]
    },
    {
     "name": "stderr",
     "output_type": "stream",
     "text": [
      "<ipython-input-168-ea890d38a76b>:2: RuntimeWarning: invalid value encountered in log\n",
      "  return 2*(np.exp(1)-x)*np.log(np.exp(1)-x)\n"
     ]
    }
   ],
   "source": [
    "def g(x):       #Testing problem 3d\n",
    "    return 2*(np.exp(1)-x)*np.log(np.exp(1)-x)\n",
    "\n",
    "x0 = 1.2\n",
    "\n",
    "# Apply the fixed point scheme\n",
    "x, nit = fixpoint(g, x0, tol=10.e-6, max_iter=30)\n",
    "\n",
    "print('\\nx = {} after {} iterations'.format(x, nit))"
   ]
  },
  {
   "cell_type": "markdown",
   "metadata": {},
   "source": [
    "## Newtons method\n",
    "\n",
    "The algorithm from slide #17 reads"
   ]
  },
  {
   "cell_type": "code",
   "execution_count": 170,
   "metadata": {},
   "outputs": [],
   "source": [
    "def newton(f, df, x0, tol=1.e-8, max_iter=30, verbose=True):\n",
    "    \"\"\"\n",
    "        newton(f, df, x0, tol=1.e-8, max_iter=30, verbose=True):\n",
    "    \n",
    "    Solve $f(x) = 0$ by Newtons method.\n",
    "    \n",
    "    Input:\n",
    "        f    - the function f\n",
    "        df   - the derivative of f\n",
    "        x0   - initial value\n",
    "    Optional (keyword) parameters\n",
    "        tol      - (`1.0e-8`) a tolerance when to stop\n",
    "        max_iter - (`30`) the maximal number of iterations\n",
    "        verbose  – (`True`) prints the iterates if set to true\n",
    "    Output:\n",
    "        x, k – the found root and the number of iterations needed\n",
    "               to get to this point\n",
    "    \"\"\"\n",
    "    x = x0\n",
    "    verbose and print('k ={:3d}, x = {:18.15f}, f(x) = {:10.3e}'.format(0, x, f(x)))\n",
    "    for k in range(max_iter):\n",
    "        fx = f(x)\n",
    "        if abs(fx) < tol:           # Accept the solution \n",
    "            verbose and print('The function value {:1.5e} is below the tolerance ({:1.5e})'.format(fx,tol))\n",
    "            break \n",
    "        x = x - fx/df(x)            # Newton-iteration\n",
    "        verbose and print('k ={:3d}, x = {:18.15f}, f(x) = {:10.3e}'.format(k+1, x, f(x)))\n",
    "    return x, k+1"
   ]
  },
  {
   "cell_type": "markdown",
   "metadata": {},
   "source": [
    "And we continue with our example above, we just additionally need its derivative"
   ]
  },
  {
   "cell_type": "code",
   "execution_count": 173,
   "metadata": {},
   "outputs": [
    {
     "name": "stdout",
     "output_type": "stream",
     "text": [
      "k =  0, x =  2.000000000000000, f(x) =  2.000e+00\n",
      "k =  1, x =  1.000000000000000, f(x) =  0.000e+00\n",
      "The function value 0.00000e+00 is below the tolerance (1.00000e-14)\n",
      "\n",
      "Result:\n",
      "x=1.0, number of iterations=2\n"
     ]
    }
   ],
   "source": [
    "#Problem 3d) testing if converges\n",
    "def f(x):\n",
    "    return x*np.log(np.exp(x))- x\n",
    "\n",
    "def df(x):                  # The derivative f'\n",
    "    return np.log(np.exp(x))\n",
    "\n",
    "# A start value\n",
    "x0 = 2\n",
    "# Note that we want to come _really_ close here\n",
    "x, nit = newton(f, df, x0, tol=1.e-14, max_iter=30)\n",
    "print('\\nResult:\\nx={}, number of iterations={}'.format(x, nit))"
   ]
  },
  {
   "cell_type": "markdown",
   "metadata": {},
   "source": [
    "##### Newton's method for systems of equations\n",
    "\n",
    "From Slide #24 we obtain the algorithm"
   ]
  },
  {
   "cell_type": "code",
   "execution_count": null,
   "metadata": {},
   "outputs": [],
   "source": [
    "def newton_system(f, J, x0, tol = 1.0e-10, max_iter=20, verbose=True):\n",
    "    \"\"\"\n",
    "        newton_system(f, J, x0, tol = 1.e-10, max_iter=20, verbose=True)\n",
    "    \n",
    "    Solve the system of equations given by $\\mathbf{F}(\\mathbf{x}) = 0$ using Newton's method.\n",
    "    \n",
    "    Input:\n",
    "        f    - the function f\n",
    "        J    - the Jacobian of f\n",
    "        x0   - initial value\n",
    "    Optional (keyword) parameters\n",
    "        tol      - (`1.0e-10`) a tolerance when to stop (maximal movement in a compontent of $\\mathbf f(\\mathbf x^{(k)})$ is less than this tolerance)\n",
    "        max_iter - (`20`) the maximal number of iterations\n",
    "        verbose  – (`True`) prints the iterates if set to true\n",
    "    Output:\n",
    "        x, k – the found root and the number of iterations needed\n",
    "               to get to this point\n",
    "    \"\"\"\n",
    "    x = x0\n",
    "    verbose and print('k ={:3d}, x = '.format(0), x)\n",
    "    for k in range(max_iter):\n",
    "        fx = f(x)\n",
    "        me = norm(fx, math.inf)\n",
    "        if me < tol: # Maximal entry if suze less than tol\n",
    "            verbose and print('The (max entrywise) function value {:1.5e} is below the tolerance ({:1.5e})'.format(me, tol))\n",
    "            break\n",
    "        Jx = J(x)\n",
    "        delta = solve(Jx, -fx) # Solve (J(x))δ = f(x) \n",
    "        x = x + delta            \n",
    "        verbose and print('k ={:3d}, x = '.format(k+1), x)\n",
    "    return x, k"
   ]
  },
  {
   "cell_type": "markdown",
   "metadata": {},
   "source": [
    "The example form slide #25 reads as follows. Be careful with the indexing: Python starts at 0 so $x_1$ is `x[0]`."
   ]
  },
  {
   "cell_type": "code",
   "execution_count": null,
   "metadata": {},
   "outputs": [],
   "source": [
    "def f(x):               \n",
    "    y = np.array([x[0]**3-x[1]+0.25, \n",
    "               x[0]**2+x[1]**2-1])\n",
    "    return y\n",
    "\n",
    "def J(x):\n",
    "    return np.array(\n",
    "         [[3*x[0]**2, -1],\n",
    "         [2*x[0],    2*x[1]]])\n",
    "\n",
    "x0 = np.array([1.0, 1.0])          # Starting values\n",
    "max_iter = 20\n",
    "# Apply Newton's method\n",
    "x, nit = newton_system(f, J, x0, tol = 1.e-12, max_iter = max_iter)\n",
    "  \n",
    "print('\\nTest: f(x)={}'.format(f(x)))\n",
    "if nit == max_iter:\n",
    "    printf('Warning: Convergence was not achieved')"
   ]
  },
  {
   "cell_type": "code",
   "execution_count": null,
   "metadata": {},
   "outputs": [],
   "source": [
    "# Slide 26 Example 2\n",
    "def f(x):               \n",
    "    y = np.array([x[0]*math.exp(x[1]) - 1,\n",
    "               -x[0]**2+x[1] - 1)\n",
    "    return y\n",
    "\n",
    "                \n",
    "def J(x):\n",
    "    return #define the Jacobian yourself\n",
    "                  \n",
    "x0 = # Set the starting value\n",
    "# Apply Newton's method\n",
    "x, nit = newton_system(f, jac, x0, tol = 1.e-12)\n",
    "\n",
    "print('\\nTest: f(x)={}'.format(f(x)))"
   ]
  },
  {
   "cell_type": "code",
   "execution_count": null,
   "metadata": {},
   "outputs": [],
   "source": []
  }
 ],
 "metadata": {
  "kernelspec": {
   "display_name": "Python 3",
   "language": "python",
   "name": "python3"
  },
  "language_info": {
   "codemirror_mode": {
    "name": "ipython",
    "version": 3
   },
   "file_extension": ".py",
   "mimetype": "text/x-python",
   "name": "python",
   "nbconvert_exporter": "python",
   "pygments_lexer": "ipython3",
   "version": "3.8.5"
  }
 },
 "nbformat": 4,
 "nbformat_minor": 5
}
