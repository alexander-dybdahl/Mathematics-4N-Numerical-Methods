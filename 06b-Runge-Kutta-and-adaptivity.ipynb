{
 "cells": [
  {
   "cell_type": "markdown",
   "metadata": {},
   "source": [
    "# Runge-Kutta methods and adaptive time-stepping\n",
    "\n",
    "TMA4125 Vår 2022\n",
    "\n",
    "This notebook accompanies the slides [06b-Runge-Kutta-methods-and-adaptivity.pdf](https://www.math.ntnu.no/emner/TMA4125/2022v/lecture-notes/06b-Runge-Kutta-methods-and-adaptivity.pdf)."
   ]
  },
  {
   "cell_type": "code",
   "execution_count": 1,
   "metadata": {},
   "outputs": [],
   "source": [
    "import matplotlib as mpl\n",
    "import numpy as np\n",
    "import matplotlib.pyplot as plt\n",
    "from numpy import pi\n",
    "from numpy.linalg import norm"
   ]
  },
  {
   "cell_type": "markdown",
   "metadata": {},
   "source": [
    "## Numerical implementation\n",
    "Let's implement a routine to solve ODEs numerically through explicit Runge-Kutta methods"
   ]
  },
  {
   "cell_type": "markdown",
   "metadata": {},
   "source": [
    "### Explicit Runge-Kutta methods\n",
    "The routine below implements an explicit Runge-Kutta method based on its tableau:"
   ]
  },
  {
   "cell_type": "code",
   "execution_count": 2,
   "metadata": {},
   "outputs": [],
   "source": [
    "def explicitRK(a, b, c, y0, T, f, h):\n",
    "    \"\"\"\n",
    "        explicitRK(a, b, c, y0, T, f, h)\n",
    "    \n",
    "    Use an explicit Runge-Kutta method to approximate the solution of the ODE (scalar or system) y'(t) = f(t,y);\n",
    "    -> An RK method requires first computing s stage derivatives k_i, i=1,...,s, given by\n",
    "    k_i = f(t_n+c_i*h, y_{n} + h\\sum_{j=1}^s a_ij*k_i)\n",
    "    -> Then, we compute the next-step solution y_{n+1} via\n",
    "    y_{n+1} = y_{n} + h\\sum_{i=1}^s b_i*k_i\n",
    "    \n",
    "    Input:\n",
    "        a  - s-by-s array containing the linear coefficients a_ij \n",
    "        b  - s-by-1 array containing the b_i linear coefficients \n",
    "        c  - s-by-1 array containing the c_i linear coefficients \n",
    "        y0 - initial value y(0)\n",
    "        f  - definition of the right-hand-side function\n",
    "        T  - simulation time (starting at t=0, ending at t=T)\n",
    "        h  - time-step size (fixed)\n",
    "    Output:\n",
    "        ys  - array containing all discrete solution values y0,y1,y2,...\n",
    "        ts  - array containing all discrete time instants 0,h,2h,...\n",
    "    \"\"\"\n",
    "    s = len(b) #read number of stages (=length of b or c)\n",
    "    ks = [np.zeros_like(y0, dtype=np.double) for s in range(s)] #array for stage derivatives k_i\n",
    "    ys = [y0] #array where all y_n will be stored\n",
    "    ts = [0] #array where all t_n will be stored\n",
    "    while(ts[-1] < T):\n",
    "        t, y = ts[-1], ys[-1]\n",
    "        #Compute stage derivatives k_i\n",
    "        for i in range(s):\n",
    "            t_i = t + c[i]*h #compute time instant t_i used at stage i\n",
    "            dY_i = np.zeros_like(y, dtype=np.double) \n",
    "            \n",
    "            for j in range(i):\n",
    "                dY_i += h*a[i,j]*ks[j] #accumulate the increments for stage i\n",
    "                \n",
    "            ks[i] = f(t_i, y + dY_i) #compute and store the stage derivative k_i\n",
    "                \n",
    "        # Compute next time-step\n",
    "        dy = np.zeros_like(y, dtype=np.double) #accumulate the increments for y_{n+1}\n",
    "        for i in range(s):\n",
    "            dy += h*b[i]*ks[i]\n",
    "            \n",
    "        ys.append(y + dy)\n",
    "        ts.append(t + h)\n",
    "            \n",
    "    return (np.array(ts), np.array(ys))"
   ]
  },
  {
   "cell_type": "markdown",
   "metadata": {},
   "source": [
    "### Heun-Euler adaptive scheme\n",
    "The routine below implements an adaptive time-stepping scheme combining Heun's and Euler's methods."
   ]
  },
  {
   "cell_type": "code",
   "execution_count": 3,
   "metadata": {},
   "outputs": [],
   "source": [
    "def HeunWithEuler(y0, T, f, h, tol, gamma, alpha):\n",
    "    \"\"\"\n",
    "        HeunWithEuler(y0, T, f, h, tol, gamma, alpha)\n",
    "    \n",
    "    Use an adaptive Runge-Kutta scheme to approximate the solution of the ODE (scalar or system) y'(t) = f(t,y);\n",
    "    This is an embedded scheme using Heun's and Euler's methods as higher- and lower-order methods, respectively.\n",
    "  \n",
    "    Input:\n",
    "        y0    - initial value y(0)\n",
    "        f     - definition of the right-hand-side function\n",
    "        T     - simulation time (starting at t=0, ending at t=T)\n",
    "        h     - \"initial guess\" for the time-step size\n",
    "        tol   - tolerance for accepting/rejecting the solution computed after at a certain time step\n",
    "        gamma - positive coefficient applied to the newly estimatated time-step size h. Usually taken as < 1\n",
    "        alpha - coefficient (>1) used to increase the time-step size h after an accepted time step\n",
    "    Output:\n",
    "        y  - array containing all discrete solution values y0,y1,y2,...,yn\n",
    "        t  - array containing all discrete time instants 0,h1,h1+h2,...,T\n",
    "    \"\"\"\n",
    "    ys = [y0] #array where all y_n will be stored\n",
    "    ts = [0]  #array where all t_n will be stored\n",
    "    hs = [h]  #array where all time-step sizes h are stored\n",
    "    while(ts[-1] < T):\n",
    "        t, y = ts[-1], ys[-1]\n",
    "        k1 = f(t,y) #compute first stage\n",
    "        k2 = f(t+h, y+h*k1) #compute second stage\n",
    "        epsilon = norm(h*((.5-1)*k1 + (.5-0)*k2)) #estimate the error based on the \"Heun-Euler difference\" \n",
    "        if epsilon <= tol: #accept this time step if the tolerance is met\n",
    "            if t+h > T: #adjust the last time-step size h to finish exactly at the final time t = T\n",
    "                h = T-t\n",
    "            else:\n",
    "                ys.append(y + 0.5*h*(k1+k2))\n",
    "                ts.append(t + h)\n",
    "                hs.append(h)\n",
    "                h = alpha*h #increase the time-step size (multiplying h by a factor alpha > 1)\n",
    "        else: #if the step is rejected, adapt the time-step size and re-do step \n",
    "            h = h*gamma*((tol/epsilon)**1/2) \n",
    "    \n",
    "    return (np.array(ts), np.array(ys),  np.array(hs))"
   ]
  },
  {
   "cell_type": "markdown",
   "metadata": {},
   "source": [
    "## Numerical example: the Riccati equation\n",
    "We will now revisit the free-fall problem seen in the previous lectures. The problem can be modelled by the so-called Riccati equation:\n",
    "\\begin{align*}\n",
    "\\mathrm{v}'(t) = g - \\alpha \\mathrm{v}^2, \\quad \\mathrm{v(0)} = \\mathrm{v}_0\\, ,\n",
    "\\end{align*}\n",
    "whose exact solution is\n",
    "\\begin{align*}\n",
    "\\mathrm{v}(t) = \\sqrt{\\frac{g}{\\alpha}}\\tanh\\left[\\sqrt{\\alpha g}t + \\mathrm{atanh}\\left(\\mathrm{v}_0\\sqrt{\\alpha/g}\\right)\\right]\n",
    "\\end{align*}\n",
    "We can use this to compute the accuracy of our numerical schemes:"
   ]
  },
  {
   "cell_type": "code",
   "execution_count": 4,
   "metadata": {},
   "outputs": [
    {
     "name": "stdout",
     "output_type": "stream",
     "text": [
      "Number of (adaptive) time steps = 39\n",
      "Error with adaptive scheme = 0.0023088170694958166\n",
      "Number of (fixed) time steps = 62\n",
      "Error with non-adaptive scheme = 0.002365844610388468\n"
     ]
    },
    {
     "data": {
      "image/png": "[encoded data removed]",
      "text/plain": [
       "<Figure size 432x288 with 1 Axes>"
      ]
     },
     "metadata": {
      "needs_background": "light"
     },
     "output_type": "display_data"
    }
   ],
   "source": [
    "# Problem data\n",
    "v0 = 0 #initial velocity, in m/s\n",
    "rho = 1.22; #air density, in kg/m^3\n",
    "k = .235; #empirical aerodynamic coefficient \n",
    "R = 1; #radius of the sphere, in meters\n",
    "m = 1; #mass of the sphere, in kg\n",
    "g = 9.81; #gravity, in m/s^2\n",
    "alpha = k*rho*pi*R**2/m; #resulting Riccati coefficient (ODE: v' + alpha*v^2 - g = 0)\n",
    "\n",
    "# Solver settings\n",
    "T = 1.5 #Final simulation time, in seconds\n",
    "h = 0.025 #Time-step size, in seconds\n",
    "\n",
    "# Define right-hand-side function\n",
    "def f(t,v):\n",
    "    return  g - alpha*v**2\n",
    "  \n",
    "# Prescribe Butcher tableau for Heun's method (second-order)\n",
    "aHeun = np.array([[0,   0],\n",
    "              [1, 0]])\n",
    "bHeun = np.array([0.5, .5])\n",
    "cHeun = np.array([0, 1])\n",
    "\n",
    "# Numerical solution via Heun's method with fixed and then adaptive step\n",
    "tHeun, vHeun = explicitRK(aHeun, bHeun, cHeun, v0, T, f, h) \n",
    "tAdaptive, vAdaptive, hAdaptive = HeunWithEuler(v0, T, f, h, 1e-2, .9, 1.1)\n",
    "\n",
    "# Plot numerical solution (adaptive scheme)\n",
    "plt.plot(tAdaptive, vAdaptive, 'om-')\n",
    "\n",
    "# Define the inverse hyperbolic arc-tangent function, to evaluate the exact (analytical) solution\n",
    "def atanh(x):\n",
    "    return  .5*np.log(np.abs((1+x)/(1-x)))\n",
    "\n",
    "#Plot exact solution \n",
    "tFine = np.linspace(0,T,1000);\n",
    "plt.plot(tFine,((g/alpha)**.5)*np.tanh(((alpha*g)**.5)*tFine + atanh(v0*(alpha/g)**.5)),'--k')\n",
    "\n",
    "#Axis and legend for the plots\n",
    "#plt.legend(['Euler', 'Heun', 'Taylor', 'Exact'], fontsize = 16)\n",
    "plt.xlabel('Time [s]', fontsize = 20)\n",
    "plt.ylabel('Velocity [m/s]', fontsize = 20)\n",
    "plt.rcParams['figure.figsize'] = [15, 6]\n",
    "\n",
    "#Compute and print global errors \n",
    "vExact = ((g/alpha)**.5)*np.tanh(((alpha*g)**.5)*tAdaptive + atanh(v0*(alpha/g)**.5))\n",
    "ErrorAdaptiveStep = max(abs(vExact-vAdaptive))\n",
    "vExact = ((g/alpha)**.5)*np.tanh(((alpha*g)**.5)*tHeun + atanh(v0*(alpha/g)**.5))\n",
    "ErrorFixedStep = max(abs(vExact-vHeun))\n",
    "print('Number of (adaptive) time steps =', len(tAdaptive))\n",
    "print('Error with adaptive scheme =', ErrorAdaptiveStep)\n",
    "print('Number of (fixed) time steps =', len(tHeun))\n",
    "print('Error with non-adaptive scheme =', ErrorFixedStep)\n",
    "#print('adaptive time-step sizes =',hAdaptive)"
   ]
  },
  {
   "cell_type": "code",
   "execution_count": null,
   "metadata": {},
   "outputs": [],
   "source": []
  }
 ],
 "metadata": {
  "kernelspec": {
   "display_name": "Python 3",
   "language": "python",
   "name": "python3"
  },
  "language_info": {
   "codemirror_mode": {
    "name": "ipython",
    "version": 3
   },
   "file_extension": ".py",
   "mimetype": "text/x-python",
   "name": "python",
   "nbconvert_exporter": "python",
   "pygments_lexer": "ipython3",
   "version": "3.8.5"
  }
 },
 "nbformat": 4,
 "nbformat_minor": 5
}
