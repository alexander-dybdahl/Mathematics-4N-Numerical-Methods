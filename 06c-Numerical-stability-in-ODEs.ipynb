{
 "cells": [
  {
   "cell_type": "markdown",
   "id": "b14703dd",
   "metadata": {},
   "source": [
    "# Numerical Stability of Stepping Methods for Ordinary Differential Equations\n",
    "\n",
    "TMA4125 Vår 2022\n",
    "\n",
    "This notebook accompanies the slides [06c-Numerical-stability-in-ODEs.pdf](https://www.math.ntnu.no/emner/TMA4125/2022v/lecture-notes/06c-Numerical-stability-in-ODEs.pdf)."
   ]
  },
  {
   "cell_type": "code",
   "execution_count": 1,
   "id": "adab3f60",
   "metadata": {},
   "outputs": [],
   "source": [
    "import matplotlib as mpl\n",
    "import numpy as np\n",
    "import matplotlib.pyplot as plt\n",
    "from numpy import pi\n",
    "from numpy.linalg import norm"
   ]
  },
  {
   "cell_type": "markdown",
   "id": "f5788b9c",
   "metadata": {},
   "source": [
    "# Numerical algorithms\n",
    "Let's implement simple routines to solve ODEs numerically, based on different methods seen in class"
   ]
  },
  {
   "cell_type": "markdown",
   "id": "54ad3517",
   "metadata": {},
   "source": [
    "### Explicit Euler \n",
    "The algorithm for Euler's method looks like"
   ]
  },
  {
   "cell_type": "code",
   "execution_count": 2,
   "id": "8b943e0d",
   "metadata": {},
   "outputs": [],
   "source": [
    "# Define Euler's method\n",
    "def Euler(y0, T, f, h):\n",
    "    \"\"\"\n",
    "        Euler(y0, T, f, h)\n",
    "    \n",
    "    Use Euler's method to approximate the solution of the ODE (scalar or system) y'(t) = f(t,y)\n",
    "    \n",
    "    Input:\n",
    "        y0 - initial value y(0)\n",
    "        f  - definition of the right-hand-side function\n",
    "        T  - simulation time (starting at t=0, ending at t=T)\n",
    "        h  - time-step size (fixed)\n",
    "    Output:\n",
    "        y  - array containing all discrete solution values y0,y1,y2,...\n",
    "        t  - array containing all discrete time instants 0,h,2h,...\n",
    "    \"\"\"\n",
    "    ys = [y0] #array where all y_n will be stored\n",
    "    ts = [0]  #array where all t_n will be stored\n",
    "    while(ts[-1] < T):\n",
    "        t, y = ts[-1], ys[-1]\n",
    "        ys.append(y + h*f(t, y))\n",
    "        ts.append(t + h)\n",
    "    return (np.array(ts), np.array(ys))"
   ]
  },
  {
   "cell_type": "markdown",
   "id": "9f9ece94",
   "metadata": {},
   "source": [
    "### Heun's method\n",
    "The algorithm for Heun's method looks like"
   ]
  },
  {
   "cell_type": "code",
   "execution_count": 3,
   "id": "756cdc85",
   "metadata": {},
   "outputs": [],
   "source": [
    "# Define Heun's method\n",
    "def Heun(y0, T, f, h):\n",
    "    \"\"\"\n",
    "        Heun(y0, T, f, h)\n",
    "    \n",
    "    Use Heun's method to approximate the solution of the ODE (scalar or system) y'(t) = f(t,y)\n",
    "    \n",
    "    Input:\n",
    "        y0 - initial value y(0)\n",
    "        f  - definition of the right-hand-side function\n",
    "        T  - simulation time (starting at t=0, ending at t=T)\n",
    "        h  - time-step size (fixed)\n",
    "    Output:\n",
    "        y  - array containing all discrete solution values y0,y1,y2,...\n",
    "        t  - array containing all discrete time instants 0,h,2h,...\n",
    "    \"\"\"\n",
    "    ys = [y0] #array where all y_n will be stored\n",
    "    ts = [0]  #array where all t_n will be stored\n",
    "    while(ts[-1] < T):\n",
    "        t, y = ts[-1], ys[-1]\n",
    "        f1 = f(t,y)\n",
    "        f2 = f(t+h, y+h*f1)\n",
    "        ys.append(y + 0.5*h*(f1+f2))\n",
    "        ts.append(t + h)\n",
    "    return (np.array(ts), np.array(ys))"
   ]
  },
  {
   "cell_type": "markdown",
   "id": "95f37afc",
   "metadata": {},
   "source": [
    "### Implicit Euler\n",
    "For a nonlinear ODE $y'(t) = f(t,y(t))$, the implicit Euler method requires an additional loop: at each time step, we need to use an iterative method to find $y_{n+1}$. The nonlinear equation to be solved is\n",
    "\\begin{align*}\n",
    "y_{n+1} = y_n + hf(t_{n}+h,y_{n+1})\\, . \\vphantom{\\sqrt{\\frac{1}{2}}}\n",
    "\\end{align*}\n",
    "Since $y_n$ and $t_{n}$ are already known at this point, we can define $g(y_{n+1}) := y_n + hf(t_{n}+h,y_{n+1})$, so that\n",
    "\\begin{align*}\n",
    "y_{n+1} = g(y_{n+1})\\, ,\n",
    "\\end{align*}\n",
    "which is already in the form we need when applying, for example, a fixed-point iteration. This is what we implement below:"
   ]
  },
  {
   "cell_type": "code",
   "execution_count": 4,
   "id": "3632b45c",
   "metadata": {},
   "outputs": [],
   "source": [
    "# Define the implicit Euler method\n",
    "def implicitEuler(y0, T, f, h):\n",
    "    \"\"\"\n",
    "        implicitEuler(y0, T, f, h)\n",
    "    \n",
    "    Use the implicit Euler method to approximate the solution of the ODE (scalar or system) y'(t) = f(t,y(t))\n",
    "    \n",
    "    Input:\n",
    "        y0 - initial value y(0)\n",
    "        f  - definition of the right-hand-side function\n",
    "        T  - simulation time (starting at t=0, ending at t=T)\n",
    "        h  - time-step size (fixed)\n",
    "    Output:\n",
    "        y  - array containing all discrete solution values y0,y1,y2,...\n",
    "        t  - array containing all discrete time instants 0,h,2h,...\n",
    "    \"\"\"\n",
    "    ys = [y0] #array where all y_n will be stored\n",
    "    ts = [0]  #array where all t_n will be stored\n",
    "    tol = 1e-6 #set the tolerance of the fixed-point iteration\n",
    "    cMax = 50 #set the maximum number of fixed-point iterations allowed at each time step\n",
    "    while(ts[-1] < T):\n",
    "        t, y_n = ts[-1], ys[-1] \n",
    "        err = 1000 #define the error as a large number before starting the iterations\n",
    "        c = 0 #re-set iteration count at each time step\n",
    "        y = y_n #set y_n as the starting point for the iterative method\n",
    "        while err > tol and c < cMax: #stop iterations when reaching the tolerance OR the maximum iteration count\n",
    "            c = c + 1 \n",
    "            y = y_n + h*f(t+h,y)\n",
    "            err = norm(y-y_n-h*f(t+h,y))\n",
    "        ys.append(y)\n",
    "        ts.append(t + h)\n",
    "    return (np.array(ts), np.array(ys))"
   ]
  },
  {
   "cell_type": "markdown",
   "id": "29ac72b2",
   "metadata": {},
   "source": [
    "### Implicit Euler for a linear ODE\n",
    "For the linear ODE $y' = k y$, we get a closed-form expression for each implicit Euler step:\n",
    "\\begin{align*}\n",
    "y_{n+1} = y_n + hf(t_{n+1},y_{n+1}) = y_n + h k y_{n+1} \\quad \\Rightarrow \\quad y_{n+1} = \\frac{y_n}{1-hk}\\, . \\vphantom{\\sqrt{\\frac{1}{2}}}\n",
    "\\end{align*}\n",
    "This allows a simpler implementation:"
   ]
  },
  {
   "cell_type": "code",
   "execution_count": 5,
   "id": "273ad890",
   "metadata": {},
   "outputs": [],
   "source": [
    "# Define the implicit Euler method for the scalar, linear model problem\n",
    "def implicitEulerLinear(y0, T, k, h):\n",
    "    \"\"\"\n",
    "        implicitEuler(y0, T, f, h)\n",
    "    \n",
    "    Use the implicit Euler method to approximate the solution of the linear, scalar ODE y'(t) = k*y(t)\n",
    "    \n",
    "    Input:\n",
    "        y0 - initial value y(0)\n",
    "        k  - linear ODE coefficient\n",
    "        T  - simulation time (starting at t=0, ending at t=T)\n",
    "        h  - time-step size (fixed)\n",
    "    Output:\n",
    "        y  - array containing all discrete solution values y0,y1,y2,...\n",
    "        t  - array containing all discrete time instants 0,h,2h,...\n",
    "    \"\"\"\n",
    "    ys = [y0] #array where all y_n will be stored\n",
    "    ts = [0]  #array where all t_n will be stored\n",
    "    while(ts[-1] < T):\n",
    "        t, y = ts[-1], ys[-1]\n",
    "        ys.append(y/(1-k*h))\n",
    "        ts.append(t + h)\n",
    "    return (np.array(ts), np.array(ys))"
   ]
  },
  {
   "cell_type": "markdown",
   "id": "17a8329c",
   "metadata": {},
   "source": [
    "# Numerical examples"
   ]
  },
  {
   "cell_type": "markdown",
   "id": "72182b56",
   "metadata": {},
   "source": [
    "## Linear scalar ODE\n",
    "To test the stability of our methods, let's consider the linear problem\n",
    "\\begin{align*}\n",
    "y'(t) = ky(t), \\quad y(0) = y_0\\, .\n",
    "\\end{align*}\n",
    "This problem has a known exact solution: \n",
    "\\begin{align*}\n",
    "y(t) = y_0\\mathrm{e}^{kt}\\, ,\n",
    "\\end{align*}\n",
    "which exhibits a decaying behaviour for $k < 0$."
   ]
  },
  {
   "cell_type": "code",
   "execution_count": 6,
   "id": "866c5c9b",
   "metadata": {
    "scrolled": false
   },
   "outputs": [
    {
     "data": {
      "image/png": "[encoded data removed]",
      "text/plain": [
       "<Figure size 432x288 with 1 Axes>"
      ]
     },
     "metadata": {
      "needs_background": "light"
     },
     "output_type": "display_data"
    }
   ],
   "source": [
    "# Problem data\n",
    "y0 = 1 #initial value\n",
    "k = -4 #linear coefficient\n",
    "\n",
    "# Solver settings\n",
    "T = 4 #Final simulation time\n",
    "h = .2 #Time-step size\n",
    "\n",
    "# Define right-hand-side function\n",
    "def f(t,y):\n",
    "    return  k*y\n",
    "\n",
    "# Numerical solution via different methods\n",
    "tHeun, yHeun = Heun(y0, T, f, h)\n",
    "tEuler, yEuler = Euler(y0, T, f, h)\n",
    "tImplicitEuler, yImplicitEuler = implicitEulerLinear(y0, T, k, h) \n",
    "\n",
    "#Plot numerical solutions\n",
    "plt.plot(tHeun, yHeun, 'o-c')\n",
    "plt.plot(tEuler, yEuler, 's-b')\n",
    "plt.plot(tImplicitEuler, yImplicitEuler, '*-r')\n",
    "\n",
    "\n",
    "#Plot exact solution \n",
    "t = np.linspace(0,T,1000);\n",
    "plt.plot(t,y0*np.exp(k*t),'--k')\n",
    "\n",
    "#Axis and legend for the plots\n",
    "plt.legend(['Heun','Euler', 'Implicit Euler',  'Exact'], fontsize = 16)\n",
    "plt.xlabel('$t$', fontsize = 20)\n",
    "plt.ylabel('$y$', fontsize = 20)\n",
    "plt.rcParams['figure.figsize'] = [15, 6]"
   ]
  },
  {
   "cell_type": "markdown",
   "id": "2d41df32",
   "metadata": {},
   "source": [
    "## Linear ODE system\n",
    "In this example, we will check the stability of the explicit Euler method when solving the linear ODE system $\\mathbf{y}'(t) = A\\mathbf{y}(t)$, in which\n",
    "\\begin{align*}\n",
    "A = \n",
    "\\begin{pmatrix}\n",
    "0 & 1 \\\\\n",
    "-2 & -3\n",
    "\\end{pmatrix} \\quad \\mathrm{and} \\quad \\mathbf{y}(0) = \n",
    "\\begin{pmatrix}\n",
    "1 \\\\ 0\n",
    "\\end{pmatrix}\\, .\n",
    "\\end{align*}\n",
    "As seen in class, this can represent the electrodynamics of an RLC circuit. For this problem, we have the analytical solution\n",
    "\\begin{align*}\n",
    "\\mathbf{y}(t) = \n",
    "\\begin{pmatrix}\n",
    "2\\mathrm{e}^{-t} - \\mathrm{e}^{-2t}  \\\\\n",
    "2\\mathrm{e}^{-2t} - 2\\mathrm{e}^{-t}\n",
    "\\end{pmatrix}\\, ,\n",
    "\\end{align*}\n",
    "with the first entry in $\\mathbf{y}$ denoting the electric current $i(t)$, and the second entry being $i'(t)$."
   ]
  },
  {
   "cell_type": "code",
   "execution_count": 7,
   "id": "56cf810b",
   "metadata": {
    "scrolled": false
   },
   "outputs": [
    {
     "data": {
      "text/plain": [
       "Text(0, 0.5, 'electric current')"
      ]
     },
     "execution_count": 7,
     "metadata": {},
     "output_type": "execute_result"
    },
    {
     "data": {
      "image/png": "[encoded data removed]",
      "text/plain": [
       "<Figure size 1080x432 with 1 Axes>"
      ]
     },
     "metadata": {
      "needs_background": "light"
     },
     "output_type": "display_data"
    }
   ],
   "source": [
    "# Problem data\n",
    "y0 = np.array([1, 0]) #initial condition\n",
    "A = np.array(\n",
    "         [[0, 1],\n",
    "         [-2,    -3]]) #coefficient matrix\n",
    "\n",
    "# Solver settings\n",
    "T = 10 #Total simulation time\n",
    "h = .1 #Time-step size\n",
    "\n",
    "# Define right-hand-side function f(t,y) = A*y\n",
    "def f(t,y):\n",
    "    return  np.dot(A,y)\n",
    "\n",
    "# Numerical solution via Euler's method (explicit)\n",
    "tEuler, yEuler = Euler(y0, T, f, h)\n",
    "\n",
    "# Plot numerical solution (first component only, which represents the electric current)\n",
    "plt.plot(tEuler, yEuler[:,0], 's-y')\n",
    "\n",
    "#Plot exact solution \n",
    "t = np.linspace(0,T,1000);\n",
    "plt.plot(t,2*np.exp(-t)-np.exp(-2*t),'--k')\n",
    "\n",
    "#Axis and legend for the plots\n",
    "plt.legend(['Euler', 'Exact'], fontsize = 16)\n",
    "plt.xlabel('time', fontsize = 20)\n",
    "plt.ylabel('electric current', fontsize = 20)"
   ]
  },
  {
   "cell_type": "code",
   "execution_count": null,
   "id": "d4db4471",
   "metadata": {},
   "outputs": [],
   "source": []
  }
 ],
 "metadata": {
  "kernelspec": {
   "display_name": "Python 3",
   "language": "python",
   "name": "python3"
  },
  "language_info": {
   "codemirror_mode": {
    "name": "ipython",
    "version": 3
   },
   "file_extension": ".py",
   "mimetype": "text/x-python",
   "name": "python",
   "nbconvert_exporter": "python",
   "pygments_lexer": "ipython3",
   "version": "3.6.6+"
  }
 },
 "nbformat": 4,
 "nbformat_minor": 5
}
