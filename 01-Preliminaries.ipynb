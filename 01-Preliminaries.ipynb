{
 "cells": [
  {
   "cell_type": "markdown",
   "metadata": {},
   "source": [
    "# Prelimiaries\n",
    "\n",
    "TMA4125 Vår 2022\n",
    "\n",
    "This notebook accompanies the slides [01-Preliminaries](https://www.math.ntnu.no/emner/TMA4125/2022v/lecture-notes/01-Preliminaries.pdf).\n",
    "\n",
    "For the norms (Slide 19) we look at the following.\n",
    "\n",
    "First let‘s load the “array library” `NumPy`"
   ]
  },
  {
   "cell_type": "code",
   "execution_count": null,
   "metadata": {},
   "outputs": [],
   "source": [
    "import numpy as np\n",
    "from numpy.linalg import norm"
   ]
  },
  {
   "cell_type": "markdown",
   "metadata": {},
   "source": [
    "Now we can create a (`NumPy`-) vector $\\mathbf x$ as"
   ]
  },
  {
   "cell_type": "code",
   "execution_count": null,
   "metadata": {},
   "outputs": [],
   "source": [
    "x = np.array([1, -6, 3, -1, 5])"
   ]
  },
  {
   "cell_type": "markdown",
   "metadata": {},
   "source": [
    "and compute its norms"
   ]
  },
  {
   "cell_type": "code",
   "execution_count": null,
   "metadata": {},
   "outputs": [],
   "source": [
    "x_n2 = norm(x) # 2-norm is the default\n",
    "x_nInf = norm(x, ord=np.inf) # ||x||_∞"
   ]
  },
  {
   "cell_type": "code",
   "execution_count": null,
   "metadata": {},
   "outputs": [],
   "source": [
    "print('x = \\n', x)\n",
    "print('The 2-norm of x: {:8.4f}'.format(x_n2))\n",
    "print('The max-norm of x: {:8.4f}'.format(x_nInf))"
   ]
  },
  {
   "cell_type": "markdown",
   "metadata": {},
   "source": [
    "For the second part – inner products of functions – a good way is to first illustrate them.\n",
    "\n",
    "That way we get a better understanding.\n",
    "We first have to load a plotting library, `matplotlib`, to be precise its module `pyplot`."
   ]
  },
  {
   "cell_type": "code",
   "execution_count": null,
   "metadata": {},
   "outputs": [],
   "source": [
    "import matplotlib.pyplot as plt\n",
    "# and a little bit of plot formatting\n",
    "newparams = {'figure.figsize': (8.0, 4.0), 'axes.grid': True,\n",
    "             'lines.markersize': 8, 'lines.linewidth': 2,\n",
    "             'font.size': 14}\n",
    "plt.rcParams.update(newparams)"
   ]
  },
  {
   "cell_type": "markdown",
   "metadata": {},
   "source": [
    "Now using anonymous functions (the [`lambda`](https://www.w3schools.com/python/python_lambda.asp) formalism) we can write"
   ]
  },
  {
   "cell_type": "code",
   "execution_count": null,
   "metadata": {},
   "outputs": [],
   "source": [
    "f = lambda x : x\n",
    "g = lambda x : x**2\n",
    "fg = lambda x : f(x)*g(x)\n",
    "a = -1\n",
    "b = 1\n",
    "x = np.linspace(a,b,50)\n",
    "plt.plot(x, f(x), label=\"$f$\")\n",
    "plt.plot(x, g(x), label=\"$g$\")\n",
    "plt.plot(x, fg(x),label=\"$f\\cdot g$\")\n",
    "plt.legend()"
   ]
  },
  {
   "cell_type": "code",
   "execution_count": 19,
   "metadata": {},
   "outputs": [],
   "source": [
    "? plt.plot"
   ]
  },
  {
   "cell_type": "code",
   "execution_count": null,
   "metadata": {},
   "outputs": [],
   "source": []
  }
 ],
 "metadata": {
  "kernelspec": {
   "display_name": "Python 3",
   "language": "python",
   "name": "python3"
  },
  "language_info": {
   "codemirror_mode": {
    "name": "ipython",
    "version": 3
   },
   "file_extension": ".py",
   "mimetype": "text/x-python",
   "name": "python",
   "nbconvert_exporter": "python",
   "pygments_lexer": "ipython3",
   "version": "3.8.3"
  }
 },
 "nbformat": 4,
 "nbformat_minor": 5
}
