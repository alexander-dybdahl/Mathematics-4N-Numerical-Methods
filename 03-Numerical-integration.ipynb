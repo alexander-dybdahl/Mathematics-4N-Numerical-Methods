{
 "cells": [
  {
   "cell_type": "markdown",
   "metadata": {},
   "source": [
    "# Numerical Integration\n",
    "\n",
    "TMA4125 Vår 2022\n",
    "\n",
    "This notebook accompanies the slides [03-Numerical-Integration.pdf](https://www.math.ntnu.no/emner/TMA4125/2022v/lecture-notes/03-Numerical-Integration.pdf)."
   ]
  },
  {
   "cell_type": "code",
   "execution_count": 1,
   "metadata": {},
   "outputs": [],
   "source": [
    "import numpy as np\n",
    "import matplotlib.pyplot as plt\n",
    "from numpy import pi\n",
    "from math import factorial"
   ]
  },
  {
   "cell_type": "code",
   "execution_count": 2,
   "metadata": {},
   "outputs": [],
   "source": [
    "def QuadratureRule(f, xq, wq):\n",
    "    \"\"\"\n",
    "        QuadratureRule(f, xq, wq)\n",
    "    \n",
    "    Computes an approximation of the integral f for a given _q_uadrature _r_ule.\n",
    "    Input:\n",
    "        f:  integrand\n",
    "        xq: quadrature nodes\n",
    "        wq: quadrature weights\n",
    "    \"\"\"\n",
    "    n = len(xq)\n",
    "    if (n != len(wq)): # we need the same number of nodes and weights\n",
    "        raise RuntimeError(\"Error: Need same number of quadrature nodes and␣ 􏰀→weights!\")\n",
    "    return np.array(wq)@f(np.array(xq))"
   ]
  },
  {
   "cell_type": "markdown",
   "metadata": {},
   "source": [
    "We want to check how good our quadrature rules are when we compute the integral\n",
    "\n",
    "$$ \\int_0^1 \\cos\\bigl(\\frac{\\pi}{2}x\\bigr)\\,\\mathrm{d}x = \\frac{2}{\\pi} = 0.636619... $$\n",
    "\n",
    "Using the general function `QuadratureRule` given above"
   ]
  },
  {
   "cell_type": "code",
   "execution_count": 25,
   "metadata": {},
   "outputs": [
    {
     "name": "stdout",
     "output_type": "stream",
     "text": [
      "I[f] = 0.6366197723675814\n",
      "Q[f] = 0.5\n",
      "I[f] - Q[f] = 1.3661977237e-01\n"
     ]
    }
   ],
   "source": [
    "def f(x):\n",
    "    return np.cos(pi/2 * x)\n",
    "\n",
    "exact_integral_f = 2/pi\n",
    "\n",
    "# Example: Take Trapezoidal rule\n",
    "xq = [0, 1]\n",
    "wq = [1/2, 1/2]\n",
    "qr_f = QuadratureRule(f, xq, wq)\n",
    "print(\"I[f] = {}\".format(exact_integral_f))\n",
    "print(\"Q[f] = {}\".format(qr_f))\n",
    "print(\"I[f] - Q[f] = {:.10e}\".format(exact_integral_f - qr_f))"
   ]
  },
  {
   "cell_type": "code",
   "execution_count": 26,
   "metadata": {},
   "outputs": [
    {
     "name": "stdout",
     "output_type": "stream",
     "text": [
      "I[f] = 0.6366197723675814\n",
      "Q[f] = 0.7071067811865476\n",
      "I[f] - Q[f] = -7.0487008819e-02\n"
     ]
    }
   ],
   "source": [
    "# Example 2: check Midpoint rule\n",
    "xq = [1/2]\n",
    "wq = [1]\n",
    "qr_f = QuadratureRule(f, xq, wq)\n",
    "print(\"I[f] = {}\".format(exact_integral_f))\n",
    "print(\"Q[f] = {}\".format(qr_f))\n",
    "print(\"I[f] - Q[f] = {:.10e}\".format(exact_integral_f - qr_f))"
   ]
  },
  {
   "cell_type": "code",
   "execution_count": 27,
   "metadata": {},
   "outputs": [
    {
     "name": "stdout",
     "output_type": "stream",
     "text": [
      "I[f] = 0.6366197723675814\n",
      "Q[f] = 0.6356474078605917\n",
      "I[f] - Q[f] = 9.7236450699e-04\n"
     ]
    }
   ],
   "source": [
    "# Example 2: check Gauß-Legendre\n",
    "xq = [1/2+np.sqrt(3)/6, 1/2-np.sqrt(3)/6]\n",
    "wq = [1/2, 1/2]\n",
    "qr_f = QuadratureRule(f, xq, wq)\n",
    "print(\"I[f] = {}\".format(exact_integral_f))\n",
    "print(\"Q[f] = {}\".format(qr_f))\n",
    "print(\"I[f] - Q[f] = {:.10e}\".format(exact_integral_f - qr_f))"
   ]
  },
  {
   "cell_type": "code",
   "execution_count": 29,
   "metadata": {},
   "outputs": [
    {
     "name": "stdout",
     "output_type": "stream",
     "text": [
      "I[f] = 0.6366197723675814\n",
      "Q[f] = 0.6380711874576983\n",
      "I[f] - Q[f] = -1.4514150901e-03\n"
     ]
    }
   ],
   "source": [
    "# Example 3: Simpson's rule\n",
    "xq = [0, 1/2, 1]\n",
    "wq = [1/6, 2/3, 1/6]\n",
    "qr_f = QuadratureRule(f, xq, wq)\n",
    "print(\"I[f] = {}\".format(exact_integral_f))\n",
    "print(\"Q[f] = {}\".format(qr_f))\n",
    "print(\"I[f] - Q[f] = {:.10e}\".format(exact_integral_f - qr_f))"
   ]
  },
  {
   "cell_type": "markdown",
   "metadata": {},
   "source": [
    "## Test the degree of exactness\n",
    "\n",
    "On slide #14 we can numerically check"
   ]
  },
  {
   "cell_type": "code",
   "execution_count": 33,
   "metadata": {},
   "outputs": [
    {
     "name": "stdout",
     "output_type": "stream",
     "text": [
      "- Testing degree n = 0\n",
      "I[f] - Q[f] = 0.0000000000e+00\n",
      "\n",
      "- Testing degree n = 1\n",
      "I[f] - Q[f] = 0.0000000000e+00\n",
      "\n",
      "- Testing degree n = 2\n",
      "I[f] - Q[f] = -5.5511151231e-17\n",
      "\n",
      "- Testing degree n = 3\n",
      "I[f] - Q[f] = 2.7755575616e-17\n",
      "\n",
      "- Testing degree n = 4\n",
      "I[f] - Q[f] = 5.5555555556e-03\n",
      "\n",
      "- Testing degree n = 5\n",
      "I[f] - Q[f] = 1.3888888889e-02\n",
      "\n",
      "- Testing degree n = 6\n",
      "I[f] - Q[f] = 2.2486772487e-02\n",
      "\n"
     ]
    }
   ],
   "source": [
    "for n in range(7):\n",
    "    print(\"- Testing degree n = {}\".format(n))\n",
    " \n",
    "    def f(x):\n",
    "        return x**n\n",
    "    # we are on [0,1] and F is 1/(n+1)x^{n+1} and F(1)-F(0) is just\n",
    "    exact_integral_f = 1/(n+1)\n",
    "    \n",
    "    xq = [1/2+np.sqrt(3)/6, 1/2-np.sqrt(3)/6]\n",
    "    wq = [1/2, 1/2]\n",
    "    qr_f = QuadratureRule(f, xq, wq)\n",
    "    print(\"I[f] - Q[f] = {:.10e}\\n\".format(exact_integral_f - qr_f))"
   ]
  },
  {
   "cell_type": "markdown",
   "metadata": {},
   "source": [
    "## Composite Simpson rule\n",
    "\n",
    "From slide #24 we can directly implement"
   ]
  },
  {
   "cell_type": "code",
   "execution_count": 7,
   "metadata": {},
   "outputs": [],
   "source": [
    "def CompositeSimpson(f, a, b, m):\n",
    "    \"\"\"\n",
    "        CompositeSimpson(f, a, b, m)\n",
    "    \n",
    "    Computes an approximation of the integral f\n",
    "    using the composite Simpson's rule.\n",
    "    Input:\n",
    "        f:  integrand\n",
    "        a:  left interval endpoint\n",
    "        b:  right interval endpoint\n",
    "        m:  number of subintervals\n",
    "    \"\"\"\n",
    "    # Since we need the mid points -> double number of\n",
    "    # sampling points to include them\n",
    "    n = 2*m\n",
    "    xq = np.linspace(a, b, n+1)\n",
    "    h = (b-a)/n\n",
    "    S1 = f(xq[0]) + f(xq[n]) # f(a) and f(b) (only appear once)\n",
    "    S2 = sum(f(xq[1:n:2])) # mid points S2 = f(x_1)+f(x_3)+...+f(x_m)\n",
    "    S3 = sum(f(xq[2:n-1:2]))# first/third points (excl. a,b) S3 = f(x_2)+f(x_4)+...+f(x_{m-1})\n",
    "    S = h/3*(S1 + 4*S2 + 2*S3)\n",
    "    return S  "
   ]
  },
  {
   "cell_type": "markdown",
   "metadata": {},
   "source": [
    "## Error Estimate\n",
    "\n",
    "How many points do we need? Continue from Slide #25"
   ]
  },
  {
   "cell_type": "code",
   "execution_count": 8,
   "metadata": {},
   "outputs": [
    {
     "name": "stdout",
     "output_type": "stream",
     "text": [
      "m =   1,  error = -1.451e-03\n",
      "m =   2, error = -8.568e-05, reduction factor = 5.903e-02\n",
      "m =   4, error = -5.281e-06, reduction factor = 6.164e-02\n",
      "m =   8, error = -3.289e-07, reduction factor = 6.228e-02\n",
      "m =  16, error = -2.054e-08, reduction factor = 6.245e-02\n"
     ]
    }
   ],
   "source": [
    "def f(x):\n",
    "    return np.cos(pi/2 * x)\n",
    "\n",
    "a, b = 0, 1\n",
    "exact_solution = 2/pi\n",
    "\n",
    "previous_error = 0\n",
    "\n",
    "for m in [1,2,4,8,16]:\n",
    "    Sm = CompositeSimpson(f, a, b, m)\n",
    "    int_error = exact_solution - Sm\n",
    "    if previous_error != 0:\n",
    "       print('m = {:3d}, error = {:.3e}, reduction factor = {:.3e}'.format(m, int_error, int_error/previous_error))\n",
    "    else:\n",
    "       print('m = {:3d},  error = {:.3e}'.format(m, int_error))\n",
    "    previous_error = int_error"
   ]
  },
  {
   "cell_type": "markdown",
   "metadata": {},
   "source": [
    "### Experimental Order of convergence\n",
    "Let's compute the EOC (Slide #29) for each two succesive values from the last example as well"
   ]
  },
  {
   "cell_type": "code",
   "execution_count": 9,
   "metadata": {},
   "outputs": [
    {
     "name": "stdout",
     "output_type": "stream",
     "text": [
      "m =   1,  error = -1.451e-03\n",
      "m =   2, error = -8.568e-05, EOC = 4.082e+00\n",
      "m =   4, error = -5.281e-06, EOC = 4.020e+00\n",
      "m =   8, error = -3.289e-07, EOC = 4.005e+00\n",
      "m =  16, error = -2.054e-08, EOC = 4.001e+00\n"
     ]
    }
   ],
   "source": [
    "def f(x):\n",
    "    return np.cos(pi/2 * x)\n",
    "\n",
    "a, b = 0, 1\n",
    "exact_solution = 2/pi\n",
    "\n",
    "previous_error = 0\n",
    "previous_h = 1\n",
    "\n",
    "for m in [1,2,4,8,16]:\n",
    "    Sm = CompositeSimpson(f, a, b, m)\n",
    "    int_error = exact_solution - Sm\n",
    "    hk = (b-a)/m\n",
    "    if previous_error != 0:\n",
    "        EOC = np.log(int_error / previous_error) / np.log(hk/previous_h)\n",
    "        print('m = {:3d}, error = {:.3e}, EOC = {:.3e}'.format(m, int_error, EOC))\n",
    "    else:\n",
    "        print('m = {:3d},  error = {:.3e}'.format(m, int_error))\n",
    "    previous_error = int_error\n",
    "    previous_h = hk"
   ]
  },
  {
   "cell_type": "markdown",
   "metadata": {},
   "source": [
    "## Practical error estimates\n",
    "\n",
    "We continue with the example $\\displaystyle\\int_0^1 \\cos(x) \\mathrm{d} x = \\sin(1)$ from slide #34."
   ]
  },
  {
   "cell_type": "code",
   "execution_count": 10,
   "metadata": {},
   "outputs": [
    {
     "name": "stdout",
     "output_type": "stream",
     "text": [
      "The exact error E1 is -3.011074e-04 and its approximation is -3.015569e-04\n",
      "The exact error E2 is -1.839786e-05 and its approximation is -1.766935e-05\n"
     ]
    }
   ],
   "source": [
    "def f(x):\n",
    "    return np.cos(x)\n",
    "\n",
    "exact_integral = np.sin(1)\n",
    "# S1 and S2\n",
    "S1 = CompositeSimpson(f, 0, 1, 1)\n",
    "S2 = CompositeSimpson(f, 0, 1, 2)\n",
    "\n",
    "#E1 and E2 - remember that in the real world we do not have these\n",
    "E1 = exact_integral - S1\n",
    "E2 = exact_integral - S2\n",
    "\n",
    "#Approximate errors\n",
    "aE1 = 16/15 * (S2-S1)\n",
    "aE2 = 1/16 * (S2-S1)\n",
    "\n",
    "print(\"The exact error E1 is {:8e} and its approximation is {:8e}\".format(E1,aE1))\n",
    "print(\"The exact error E2 is {:8e} and its approximation is {:8e}\".format(E2,aE2))"
   ]
  },
  {
   "cell_type": "markdown",
   "metadata": {},
   "source": [
    "and we can compare the two given approximations with the improvement $S_2(a,b) + \\mathcal E_2(a,b)$"
   ]
  },
  {
   "cell_type": "code",
   "execution_count": 11,
   "metadata": {},
   "outputs": [
    {
     "name": "stdout",
     "output_type": "stream",
     "text": [
      "The three quadratures yield 8.417721e-01 | 8.414894e-01 | 8.414717e-01 \n",
      "Their errors are -3.011074e-04 | -1.839786e-05 | -7.285094e-07 \n"
     ]
    }
   ],
   "source": [
    "S3 = S2+aE2 # remember: Only in this toy example we have E2\n",
    "\n",
    "print(\"The three quadratures yield {:8e} | {:8e} | {:8e} \".format(S1,S2,S3))\n",
    "print(\"Their errors are {:8e} | {:8e} | {:8e} \".format(E1,E2,exact_integral-S3))"
   ]
  },
  {
   "cell_type": "markdown",
   "metadata": {},
   "source": [
    "Let's define a function that does this job for us in the following"
   ]
  },
  {
   "cell_type": "code",
   "execution_count": 12,
   "metadata": {},
   "outputs": [],
   "source": [
    "def SimpsonBasic(f, a, b):\n",
    "    \"\"\"\n",
    "        SimpsonBasic(f, a, b)\n",
    "    \n",
    "    Compute Simpson's rule including an error estimate.\n",
    "\n",
    "    Input:  \n",
    "        f:    integrand\n",
    "     a, b: integration interval\n",
    "    Output:\n",
    "        $S_2(a,b)$ and the error estimate $\\mathcal E_2(a,b)$.\n",
    "    \"\"\"\n",
    "    # The nodes \n",
    "    c = 0.5*(a+b) # mid point\n",
    "    d = 0.5*(a+c)\n",
    "    e = 0.5*(c+b)\n",
    "    \n",
    "    # Calculate S1=S_1(a,b), S2=S_2(a,b) \n",
    "    H = b-a\n",
    "    S1 = H*(f(a)+4*f(c)+f(b))/6 # classical Simpson's\n",
    "    S2 = 0.5*H*(f(a)+4*f(d)+2*f(c)+4*f(e)+f(b))/6 # sum Simpson's on [a,c] and [c,b]\n",
    "    error_estimate = (S2-S1)/15 # Error estimate for S2\n",
    "    return S2, error_estimate"
   ]
  },
  {
   "cell_type": "markdown",
   "metadata": {},
   "source": [
    "Try this method yourself by integrating our “mean guy” from last week: Runge's function.\n",
    "\n",
    "$$\n",
    "f(x)=\\frac{1}{1+16x^2}\n",
    "$$\n",
    "\n",
    "The integral is indeed given by\n",
    "\n",
    "$$\n",
    "I(a,b) = \\int_a^b \\frac{1}{1+16x^2} dx  = \\left. \\frac{\\arctan(4x)}{4}\n",
    "\\right|_a^b.\n",
    "$$\n",
    "\n",
    "Compute the integral on $[0,8]$, $[0,1]$ and $[4,8]$ using `SimpsonBasic`. How reliable are the estimated errors?\n",
    "\n",
    "Repeat the experiment on $[0,0.1]$"
   ]
  },
  {
   "cell_type": "code",
   "execution_count": 13,
   "metadata": {},
   "outputs": [],
   "source": [
    "# Compute Simpson's basic for Runges function\n",
    "def f(x):\n",
    "    return 1/(1+16*x**2)\n",
    "\n",
    "def F(x):\n",
    "    return np.arctan(4*x)/4"
   ]
  },
  {
   "cell_type": "code",
   "execution_count": 14,
   "metadata": {},
   "outputs": [],
   "source": [
    "# First Interval\n",
    "a=0\n",
    "b=8\n",
    "# Compute S1, S2, E1, E2, aE1, aE2"
   ]
  },
  {
   "cell_type": "code",
   "execution_count": 15,
   "metadata": {},
   "outputs": [],
   "source": [
    "# Second interval [0,1]\n",
    "a=0\n",
    "b=1\n",
    "# Compute S1, S2, E1, E2, aE1, aE2"
   ]
  },
  {
   "cell_type": "code",
   "execution_count": 16,
   "metadata": {},
   "outputs": [],
   "source": [
    "# Third interval [4,8]\n",
    "a=4\n",
    "b=8\n",
    "# Compute S1, S2, E1, E2, aE1, aE2"
   ]
  },
  {
   "cell_type": "code",
   "execution_count": 17,
   "metadata": {},
   "outputs": [],
   "source": [
    "# Fourth Interval [0,0.1]\n",
    "a=0\n",
    "b=0.1\n",
    "# Compute S1, S2, E1, E2, aE1, aE2"
   ]
  },
  {
   "cell_type": "markdown",
   "metadata": {},
   "source": [
    "The problem here is that the fourth derivative of Runge's function looks like\n",
    "\n",
    "$$\n",
    "f^{(4)}(x) = 6144 \\frac{1280 x^4 - 160x^2 +1}{(1-16x^2)^5}\n",
    "$$"
   ]
  },
  {
   "cell_type": "code",
   "execution_count": 18,
   "metadata": {},
   "outputs": [
    {
     "data": {
      "image/png": "[encoded data removed]",
      "text/plain": [
       "<Figure size 432x288 with 1 Axes>"
      ]
     },
     "metadata": {
      "needs_background": "light"
     },
     "output_type": "display_data"
    }
   ],
   "source": [
    "def d4f(x):\n",
    "    return 6144*(1280*x**4-160*x**2+1)/((1+16*x**2)**5)\n",
    "\n",
    "x = np.linspace(0, 8, 1001)\n",
    "plt.plot(x, d4f(x))\n",
    "plt.xlabel('x')\n",
    "plt.title('Fourth derivative of Runges function');"
   ]
  },
  {
   "cell_type": "markdown",
   "metadata": {},
   "source": [
    "## Adaptive Quadrature"
   ]
  },
  {
   "cell_type": "code",
   "execution_count": 19,
   "metadata": {},
   "outputs": [],
   "source": [
    "def SimpsonAdaptive(f, a, b, tol = 1.e-6, max_level=15, level = 0):\n",
    "    \"\"\"\n",
    "        SimpsonsAdaptive(f, a, b, tol = 1.e-6, level = 0, maks_level=15))\n",
    "\n",
    "    Compute a composite quadrature with adaptive nodes based on `SimpsonBasic`,\n",
    "    which provides a quadrature and an approximate error\n",
    "    \n",
    "    Input:  \n",
    "             f: integrand\n",
    "          a, b: integration interval\n",
    "           tol: tolerance\n",
    "     max_level: the maximal number we refine (How often to refine, 15 shoould be fine)\n",
    "         level: how often did we refine already (ignore in call, starts in zero)\n",
    "    \n",
    "    Output:\n",
    "       The approximation to the integral\n",
    "    \"\"\"\n",
    "    # Step 1\n",
    "    Q, error_estimate = SimpsonBasic(f, a, b) # The quadrature and the error estimate \n",
    "    \n",
    "    # -------------------------------------------------\n",
    "    # Write the output, and plot the nodes. \n",
    "    # This part is only for illustration. \n",
    "    if level == 0:\n",
    "        print(' l   a           b         error_est   tol')\n",
    "        print('==============================================') \n",
    "    print('{:2d}   {:.6f}   {:.6f}   {:.2e}   {:.2e}'.format(\n",
    "            level, a, b, abs(error_estimate), tol))\n",
    "    \n",
    "    x = np.linspace(a, b, 101)\n",
    "    plt.plot(x, f(x), [a, b], [f(a), f(b)], '.r')\n",
    "    plt.title('The integrand and the subintervals')\n",
    "    # -------------------------------------------------\n",
    "    \n",
    "    if level >= max_level:\n",
    "        print('Warning: Maximum number of levels used.')\n",
    "        return Q\n",
    "    \n",
    "    if abs(error_estimate) < tol: # Accept the result, and return (the improved Integral)\n",
    "        result = Q + error_estimate      \n",
    "    else:\n",
    "        # Divide the interval in two, and apply the algorithm to each interval.\n",
    "        c = 0.5*(b+a)\n",
    "        result_left  = SimpsonAdaptive(f, a, c, tol = 0.5*tol, max_level=max_level, level = level+1)\n",
    "        result_right = SimpsonAdaptive(f, c, b, tol = 0.5*tol, max_level=max_level, level = level+1)\n",
    "        result = result_right + result_left\n",
    "    return result"
   ]
  },
  {
   "cell_type": "markdown",
   "metadata": {},
   "source": [
    "Let's try this on Runge's function as well"
   ]
  },
  {
   "cell_type": "code",
   "execution_count": 20,
   "metadata": {},
   "outputs": [],
   "source": [
    "# Tweak following graphics\n",
    "newparams = {'figure.figsize': (8.0, 4.0), 'axes.grid': True,\n",
    "                     'lines.markersize': 8, 'lines.linewidth': 2}\n",
    "plt.rcParams.update(newparams)"
   ]
  },
  {
   "cell_type": "code",
   "execution_count": 21,
   "metadata": {},
   "outputs": [
    {
     "name": "stdout",
     "output_type": "stream",
     "text": [
      " l   a           b         error_est   tol\n",
      "==============================================\n",
      " 0   0.000000   8.000000   4.25e-02   1.00e-02\n",
      " 1   0.000000   4.000000   1.85e-02   5.00e-03\n",
      " 2   0.000000   2.000000   5.11e-03   2.50e-03\n",
      " 3   0.000000   1.000000   7.84e-04   1.25e-03\n",
      " 3   1.000000   2.000000   1.40e-05   1.25e-03\n",
      " 2   2.000000   4.000000   8.29e-06   2.50e-03\n",
      " 1   4.000000   8.000000   4.33e-06   5.00e-03\n"
     ]
    },
    {
     "data": {
      "text/plain": [
       "0.3757993668864555"
      ]
     },
     "execution_count": 21,
     "metadata": {},
     "output_type": "execute_result"
    },
    {
     "data": {
      "image/png": "[encoded data removed]",
      "text/plain": [
       "<Figure size 576x288 with 1 Axes>"
      ]
     },
     "metadata": {
      "needs_background": "light"
     },
     "output_type": "display_data"
    }
   ],
   "source": [
    "def f(x):\n",
    "    return 1/(1+16*x**2)\n",
    "\n",
    "def F(x):\n",
    "    return np.arctan(4*x)/4\n",
    "\n",
    "SimpsonAdaptive(f, 0, 8, tol = 10e-3)"
   ]
  },
  {
   "cell_type": "code",
   "execution_count": null,
   "metadata": {},
   "outputs": [],
   "source": []
  }
 ],
 "metadata": {
  "kernelspec": {
   "display_name": "Python 3",
   "language": "python",
   "name": "python3"
  },
  "language_info": {
   "codemirror_mode": {
    "name": "ipython",
    "version": 3
   },
   "file_extension": ".py",
   "mimetype": "text/x-python",
   "name": "python",
   "nbconvert_exporter": "python",
   "pygments_lexer": "ipython3",
   "version": "3.8.5"
  }
 },
 "nbformat": 4,
 "nbformat_minor": 5
}
